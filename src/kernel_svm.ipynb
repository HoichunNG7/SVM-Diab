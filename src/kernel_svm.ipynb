{
 "metadata": {
  "language_info": {
   "codemirror_mode": {
    "name": "ipython",
    "version": 3
   },
   "file_extension": ".py",
   "mimetype": "text/x-python",
   "name": "python",
   "nbconvert_exporter": "python",
   "pygments_lexer": "ipython3",
   "version": "3.7.4-final"
  },
  "orig_nbformat": 2,
  "kernelspec": {
   "name": "Python 3.7.4 64-bit",
   "display_name": "Python 3.7.4 64-bit",
   "metadata": {
    "interpreter": {
     "hash": "0600588c3b5f4418cbe7b5ebc6825b479f3bc010269d8b60d75058cdd010adfe"
    }
   }
  }
 },
 "nbformat": 4,
 "nbformat_minor": 2,
 "cells": [
  {
   "source": [
    "## RBF Kernel Soft-SVM Classifier\n",
    "The code for this section is written inside svm/classifiers/."
   ],
   "cell_type": "markdown",
   "metadata": {}
  },
  {
   "cell_type": "code",
   "execution_count": 3,
   "metadata": {},
   "outputs": [
    {
     "output_type": "stream",
     "name": "stdout",
     "text": [
      "(576, 8) (192, 8)\nloss: 1.008220\n"
     ]
    }
   ],
   "source": [
    "from svm.classifiers.RBF_kernel_svm import KernelSVMClassifier\n",
    "import time\n",
    "import pandas as pd\n",
    "from sklearn.datasets import load_diabetes\n",
    "from sklearn import datasets\n",
    "from sklearn.model_selection import train_test_split\n",
    "import numpy as np\n",
    "\n",
    "import matplotlib.pyplot as plt\n",
    "\n",
    "diabetes = pd.read_csv('svm/datasets/diabetes.csv')\n",
    "x_train, x_test, y_train, y_test = train_test_split(np.array(diabetes.loc[:, diabetes.columns != 'Outcome']), np.array(diabetes['Outcome']), stratify=np.array(diabetes['Outcome']), random_state=66)\n",
    "print(x_train.shape, x_test.shape)\n",
    "\n",
    "num_training = 480\n",
    "num_validation = 96 \n",
    "num_test = 160\n",
    "num_dev = 32\n",
    "\n",
    "# Change label set from {0, 1} to {-1, 1}\n",
    "y_train = 2 * y_train - 1\n",
    "y_test = 2 * y_test - 1\n",
    "\n",
    "# Our validation set will be num_validation points from the original\n",
    "# training set.\n",
    "mask = range(num_training, num_training + num_validation)\n",
    "X_val = x_train[mask]\n",
    "y_val = y_train[mask]\n",
    "\n",
    "# Our training set will be the first num_train points from the original\n",
    "# training set.\n",
    "mask = range(num_training)\n",
    "X_train = x_train[mask]\n",
    "y_train = y_train[mask]\n",
    "\n",
    "# We will also make a development set, which is a small subset of\n",
    "# the training set.\n",
    "mask = np.random.choice(num_training, num_dev, replace=False)\n",
    "X_dev = x_train[mask]\n",
    "y_dev = y_train[mask]\n",
    "\n",
    "# We use the first num_test points of the original test set as our\n",
    "# test set.\n",
    "mask = range(num_test)\n",
    "X_test = x_test[mask]\n",
    "y_test = y_test[mask]\n",
    "\n",
    "# generate a test classfier for small dataset\n",
    "clf_test = KernelSVMClassifier(X_dev, y_dev)\n",
    "clf_test.update_kernel_matrix()\n",
    "index = np.random.randint(0, num_dev, 1)\n",
    "loss, grad = clf_test.RBF_kernel_svm_loss(index, C=1.0)\n",
    "\n",
    "#print scores.shape\n",
    "print('loss: %f' % (loss, ))"
   ]
  },
  {
   "source": [
    "### Stochastic Gradient Descent\n",
    "\n",
    "We now have vectorized and efficient expressions for the loss, the gradient. We are therefore ready to do SGD to minimize the loss of the SVM."
   ],
   "cell_type": "markdown",
   "metadata": {}
  },
  {
   "cell_type": "code",
   "execution_count": 4,
   "metadata": {},
   "outputs": [
    {
     "output_type": "stream",
     "name": "stdout",
     "text": [
      "That took 0.732497s\n"
     ]
    }
   ],
   "source": [
    "clf = KernelSVMClassifier(X_train, y_train)\n",
    "tic = time.time()\n",
    "loss_history = clf.train(learning_rate=1e-7, C=1, num_iters=2000, verbose=False)\n",
    "toc = time.time()\n",
    "print('That took %fs' % (toc - tic))\n",
    "# print('loss history: ')\n",
    "# print(loss_hist)"
   ]
  },
  {
   "source": [
    "### Evaluation"
   ],
   "cell_type": "markdown",
   "metadata": {}
  },
  {
   "cell_type": "code",
   "execution_count": 5,
   "metadata": {},
   "outputs": [
    {
     "output_type": "stream",
     "name": "stdout",
     "text": [
      "training accuracy: 0.660417\n",
      "validation accuracy: 0.666667\n"
     ]
    }
   ],
   "source": [
    "# Evaluate the performance on both the training and validation set\n",
    "\n",
    "y_train_pred = clf.predict(X_train)\n",
    "print('training accuracy: %f' % (np.mean(y_train == y_train_pred), ))\n",
    "\n",
    "y_val_pred = clf.predict(X_val)\n",
    "print('validation accuracy: %f' % (np.mean(y_val == y_val_pred), ))"
   ]
  },
  {
   "source": [
    "### Hyperparameter Tuning"
   ],
   "cell_type": "markdown",
   "metadata": {}
  },
  {
   "source": [
    "# Use the validation set to tune hyperparameters (regularization strength and\n",
    "# learning rate). You should experiment with different ranges for the learning\n",
    "# rates and regularization strengths.\n",
    "\n",
    "best_val = -1\n",
    "best_svm = None\n",
    "\n",
    "# Grid Search\n",
    "C_list = [1e-3, 1e-2, 1e-1, 1, 10, 100, 1000]\n",
    "rate_list = [1e-6, 1e-5, 1e-4, 1e-3, 1e-2]\n",
    "trn_accuracy_val = -1 # highest validation accuracy for training set\n",
    "\n",
    "best_trn_C = None\n",
    "best_trn_rate = None\n",
    "best_val_C = None\n",
    "best_val_rate = None\n",
    "\n",
    "for c in C_list:\n",
    "    for rate in rate_list:\n",
    "        svm = KernelSVMClassifier(X_train, y_train)\n",
    "        loss_hist = svm.train(learning_rate=rate, C=c, num_iters=2000, verbose=False)\n",
    "\n",
    "        y_train_pred = svm.predict(X_train)\n",
    "        val = np.mean(y_train == y_train_pred)\n",
    "        if val > trn_accuracy_val:\n",
    "            trn_accuracy_val = val\n",
    "            best_trn_C = c\n",
    "            best_trn_rate = rate\n",
    "        \n",
    "        y_val_pred = svm.predict(X_val)\n",
    "        val = np.mean(y_val == y_val_pred)\n",
    "        if val > best_val:\n",
    "            best_val = val\n",
    "            best_val_C = c\n",
    "            best_val_rate = rate\n",
    "\n",
    "# Finer search on C ...\n",
    "C_step = best_val_C / 10\n",
    "\n",
    "for i in range(5, 15):\n",
    "    c = i * C_step\n",
    "    svm = KernelSVMClassifier(X_train, y_train)\n",
    "    loss_hist = svm.train(learning_rate=best_val_rate, C=c, num_iters=2000, verbose=False)\n",
    "\n",
    "    y_val_pred = svm.predict(X_val)\n",
    "    val = np.mean(y_val == y_val_pred)\n",
    "    if val > best_val:\n",
    "        best_val = val\n",
    "        best_val_C = c\n",
    "        best_svm = svm\n",
    "\n",
    "# Print out results.\n",
    "print('best validation accuracy achieved during cross-validation: %f' % best_val)\n",
    "print('hyperparameter C when best accuracy occurs: %f' % best_val_C)\n",
    "print('learning rate when best accuracy occurs: %f' % best_val_rate)"
   ],
   "cell_type": "code",
   "metadata": {},
   "execution_count": 6,
   "outputs": [
    {
     "output_type": "stream",
     "name": "stdout",
     "text": [
      "best validation accuracy achieved during cross-validation: 0.729167\nhyperparameter C when best accuracy occurs: 0.010000\nlearning rate when best accuracy occurs: 0.000010\n"
     ]
    }
   ]
  },
  {
   "source": [
    "### Test Dataset Evaluation"
   ],
   "cell_type": "markdown",
   "metadata": {}
  },
  {
   "cell_type": "code",
   "execution_count": 12,
   "metadata": {},
   "outputs": [
    {
     "output_type": "stream",
     "name": "stdout",
     "text": [
      "validation accuracy achieved on test dataset: 0.687500\n"
     ]
    }
   ],
   "source": [
    "clf = KernelSVMClassifier(X_train, y_train)\n",
    "loss_hist = clf.train(learning_rate=best_val_rate, C=best_val_C, num_iters=64000, verbose=False)\n",
    "\n",
    "y_pred = clf.predict(X_test)\n",
    "val = np.mean(y_test == y_pred)\n",
    "\n",
    "print('validation accuracy achieved on test dataset: %f' % val)"
   ]
  },
  {
   "cell_type": "code",
   "execution_count": null,
   "metadata": {},
   "outputs": [],
   "source": []
  }
 ]
}